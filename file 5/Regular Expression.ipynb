{
 "cells": [
  {
   "cell_type": "code",
   "execution_count": 1,
   "id": "c796dc91",
   "metadata": {},
   "outputs": [],
   "source": [
    "import regex as re"
   ]
  },
  {
   "cell_type": "markdown",
   "id": "fa22c3d6",
   "metadata": {},
   "source": [
    "Question 1- Write a Python program to check that a string contains only a certain set of characters (in this case a-z, A-Z and 0-9)."
   ]
  },
  {
   "cell_type": "code",
   "execution_count": 134,
   "id": "2144e192",
   "metadata": {},
   "outputs": [
    {
     "name": "stdout",
     "output_type": "stream",
     "text": [
      "['D', 'a', 't', 'a', 's', 'c', 'i', 'e', 'n', 'c', 'e', 'i', 's', 't', 'h', 'e', 'l', 'e', 'a', 'd', 'i', 'n', 'g', 'c', 'o', 'u', 'r', 's', 'e', 'i', 'n', '2', '0', '2', '3']\n"
     ]
    }
   ],
   "source": [
    "string1=\"Data science is the leading course in 2023\"\n",
    "x=re.findall('[A-Za-z0-9]',string1)\n",
    "print(x)"
   ]
  },
  {
   "cell_type": "markdown",
   "id": "7345b902",
   "metadata": {},
   "source": [
    "Question-6 Write a regular expression in Python to split a string into uppercase letters"
   ]
  },
  {
   "cell_type": "code",
   "execution_count": 53,
   "id": "7e30e44a",
   "metadata": {},
   "outputs": [
    {
     "name": "stdout",
     "output_type": "stream",
     "text": [
      "['Importance', 'Of', 'Regular', 'Expressions', 'In', 'Python']\n"
     ]
    }
   ],
   "source": [
    "str=\"ImportanceOfRegularExpressionsInPython\"\n",
    "x=re.findall('[A-Z][^A-Z]*',str)\n",
    "print(x)"
   ]
  },
  {
   "cell_type": "markdown",
   "id": "a6ce2bf2",
   "metadata": {},
   "source": [
    "Question 8- Write a Python program to find sequences of lowercase letters joined with a underscore"
   ]
  },
  {
   "cell_type": "code",
   "execution_count": 82,
   "id": "2e9e4706",
   "metadata": {},
   "outputs": [
    {
     "name": "stdout",
     "output_type": "stream",
     "text": [
      "['w_', 'e_']\n"
     ]
    }
   ],
   "source": [
    "str=\"how_are_you everyone\"\n",
    "x=re.findall('[a-z][_]',str)\n",
    "print(x)"
   ]
  },
  {
   "cell_type": "markdown",
   "id": "2ceec00d",
   "metadata": {},
   "source": [
    "Question 7- Write a Python program that matches a string that has an a followed by two to three 'b'."
   ]
  },
  {
   "cell_type": "code",
   "execution_count": 14,
   "id": "832d7748",
   "metadata": {},
   "outputs": [
    {
     "name": "stdout",
     "output_type": "stream",
     "text": [
      "enter any stringabbb\n",
      "<re.Match object; span=(0, 4), match='abbb'>\n"
     ]
    }
   ],
   "source": [
    "import re\n",
    "str=input(\"enter any string\")\n",
    "x= re.search(\"ab{2,3}\",str)\n",
    "print(x)\n",
    "    \n",
    "    "
   ]
  },
  {
   "cell_type": "markdown",
   "id": "542b9489",
   "metadata": {},
   "source": [
    "Question 2- Create a function in python that matches a string that has an a followed by zero or more b's"
   ]
  },
  {
   "cell_type": "code",
   "execution_count": 28,
   "id": "402e9c9c",
   "metadata": {},
   "outputs": [
    {
     "name": "stdout",
     "output_type": "stream",
     "text": [
      "enter any stringabbb\n",
      "<re.Match object; span=(0, 4), match='abbb'>\n"
     ]
    }
   ],
   "source": [
    "str=input(\"enter any string\")\n",
    "x=re.search(\"ab*\",str)\n",
    "print(x)"
   ]
  },
  {
   "cell_type": "markdown",
   "id": "f59bb35b",
   "metadata": {},
   "source": [
    "Question 3-  Create a function in python that matches a string that has an a followed by one or more b's"
   ]
  },
  {
   "cell_type": "code",
   "execution_count": 31,
   "id": "f294652d",
   "metadata": {},
   "outputs": [
    {
     "name": "stdout",
     "output_type": "stream",
     "text": [
      "enter any stringab\n",
      "<re.Match object; span=(0, 2), match='ab'>\n"
     ]
    }
   ],
   "source": [
    "str=input(\"enter any string\")\n",
    "x=re.search(\"ab+\",str)\n",
    "print(x)"
   ]
  },
  {
   "cell_type": "markdown",
   "id": "32bd38dd",
   "metadata": {},
   "source": [
    "Question 4- Create a function in Python and use RegEx that matches a string that has an a followed by zero or one 'b'."
   ]
  },
  {
   "cell_type": "code",
   "execution_count": 2,
   "id": "8366ecd1",
   "metadata": {},
   "outputs": [
    {
     "name": "stdout",
     "output_type": "stream",
     "text": [
      "enter any stringab\n",
      "<re.Match object; span=(0, 2), match='ab'>\n"
     ]
    }
   ],
   "source": [
    "import re\n",
    "str=input(\"enter any string\")\n",
    "x=re.search(\"ab?\",str)\n",
    "print(x)\n"
   ]
  },
  {
   "cell_type": "markdown",
   "id": "f6fedf69",
   "metadata": {},
   "source": [
    "\n",
    "Question 5- Write a Python program that matches a string that has an a followed by three 'b'.\n"
   ]
  },
  {
   "cell_type": "code",
   "execution_count": 5,
   "id": "a64aca4b",
   "metadata": {},
   "outputs": [
    {
     "name": "stdout",
     "output_type": "stream",
     "text": [
      "enter any stringabbbb\n",
      "<re.Match object; span=(0, 4), match='abbb'>\n"
     ]
    }
   ],
   "source": [
    "str=input(\"enter any string\")\n",
    "x= re.search(\"ab{3}\",str)\n",
    "print(x)"
   ]
  },
  {
   "cell_type": "markdown",
   "id": "9825399d",
   "metadata": {},
   "source": [
    "Question 9-Write a Python program that matches a string that has an 'a' followed by anything, ending in 'b'.\n"
   ]
  },
  {
   "cell_type": "code",
   "execution_count": 15,
   "id": "4ac488e4",
   "metadata": {},
   "outputs": [
    {
     "name": "stdout",
     "output_type": "stream",
     "text": [
      "enter any stringsdanb\n",
      "<re.Match object; span=(2, 5), match='anb'>\n"
     ]
    }
   ],
   "source": [
    "str=input(\"enter any string\")\n",
    "x= re.search(\"a.b$\",str)\n",
    "print(x)"
   ]
  },
  {
   "cell_type": "markdown",
   "id": "84312513",
   "metadata": {},
   "source": [
    "Question 10- Write a Python program that matches a word at the beginning of a string"
   ]
  },
  {
   "cell_type": "code",
   "execution_count": 20,
   "id": "1fdde8dd",
   "metadata": {},
   "outputs": [
    {
     "name": "stdout",
     "output_type": "stream",
     "text": [
      "<re.Match object; span=(0, 7), match='Flights'>\n"
     ]
    }
   ],
   "source": [
    "str='Flights will start on two new routes'\n",
    "x= re.search(r\"^\\w+\",str)\n",
    "print(x)"
   ]
  },
  {
   "cell_type": "markdown",
   "id": "cadfbb4c",
   "metadata": {},
   "source": [
    "Question 11-Write a Python program to match a string that contains only upper and lowercase letters, numbers, and underscores"
   ]
  },
  {
   "cell_type": "code",
   "execution_count": 97,
   "id": "bbc56cce",
   "metadata": {},
   "outputs": [
    {
     "name": "stdout",
     "output_type": "stream",
     "text": [
      "enter any stringABZazb1_2\n",
      "<re.Match object; span=(0, 9), match='ABZazb1_2'>\n"
     ]
    }
   ],
   "source": [
    "str=input(\"enter any string\")\n",
    "x= re.match(\"^\\w+$\",str)\n",
    "print(x)"
   ]
  },
  {
   "cell_type": "markdown",
   "id": "9762de55",
   "metadata": {},
   "source": [
    "Question 12- Write a Python program where a string will start with a specific number. "
   ]
  },
  {
   "cell_type": "code",
   "execution_count": 35,
   "id": "a09c50b6",
   "metadata": {},
   "outputs": [
    {
     "name": "stdout",
     "output_type": "stream",
     "text": [
      "enter any string2 flights will run tomorrow\n",
      "<re.Match object; span=(0, 1), match='2'>\n"
     ]
    }
   ],
   "source": [
    "str=input(\"enter any string\")\n",
    "x= re.search(\"^\\d+\",str)\n",
    "print(x)"
   ]
  },
  {
   "cell_type": "markdown",
   "id": "13c5ffbc",
   "metadata": {},
   "source": [
    "Question 13- Write a Python program to remove leading zeros from an IP address"
   ]
  },
  {
   "cell_type": "code",
   "execution_count": 87,
   "id": "2aadad92",
   "metadata": {},
   "outputs": [
    {
     "name": "stdout",
     "output_type": "stream",
     "text": [
      "198.6.768\n"
     ]
    }
   ],
   "source": [
    "ad='198.06.0768'\n",
    "x=re.sub(\"\\.[0]+\",'.',ad)\n",
    "print(x)"
   ]
  },
  {
   "cell_type": "markdown",
   "id": "df4615de",
   "metadata": {},
   "source": [
    "Question 17- Write a Python program to find the substrings within a string."
   ]
  },
  {
   "cell_type": "code",
   "execution_count": 135,
   "id": "486af345",
   "metadata": {},
   "outputs": [
    {
     "name": "stdout",
     "output_type": "stream",
     "text": [
      "<re.Match object; span=(7, 16), match='exercises'>\n"
     ]
    }
   ],
   "source": [
    "text='Python exercises, PHP exercises, C# exercises'\n",
    "x= re.search('\\w*[exercises]',text)\n",
    "print(x)\n",
    "    "
   ]
  },
  {
   "cell_type": "markdown",
   "id": "9a368c39",
   "metadata": {},
   "source": [
    "Question 20- Write a Python program to find all words starting with 'a' or 'e' in a given string."
   ]
  },
  {
   "cell_type": "code",
   "execution_count": 104,
   "id": "cd451971",
   "metadata": {},
   "outputs": [
    {
     "name": "stdout",
     "output_type": "stream",
     "text": [
      "enter any stringassignment for regular expression\n",
      "['assignment', 'egular', 'expression']\n"
     ]
    }
   ],
   "source": [
    "import re\n",
    "str=input(\"enter any string\")\n",
    "x= re.findall(\"[a,e]\\w+\",str)\n",
    "print(x)"
   ]
  },
  {
   "cell_type": "markdown",
   "id": "2e66d7d6",
   "metadata": {},
   "source": [
    "Question 21- Write a Python program to separate and print the numbers and their position of a given string"
   ]
  },
  {
   "cell_type": "code",
   "execution_count": 38,
   "id": "c44d0a2d",
   "metadata": {},
   "outputs": [
    {
     "name": "stdout",
     "output_type": "stream",
     "text": [
      "Number: ['5']\n",
      "Position: 8\n"
     ]
    }
   ],
   "source": [
    "text=\"We have 5 days to go before the summer vacation\"\n",
    "x=re.findall('\\d+',text)\n",
    "index=text.index('5')\n",
    "\n",
    "\n",
    "print('Number:',x)\n",
    "print('Position:',index)\n"
   ]
  },
  {
   "cell_type": "markdown",
   "id": "54eb2caf",
   "metadata": {},
   "source": [
    "Question 24- Python regex to find sequences of one upper case letter followed by lower case letters"
   ]
  },
  {
   "cell_type": "code",
   "execution_count": 165,
   "id": "109b391d",
   "metadata": {},
   "outputs": [
    {
     "name": "stdout",
     "output_type": "stream",
     "text": [
      "enter any stringAnskdvjfsobGaschaucHsdcda\n",
      "['Anskdvjfsob', 'Gaschauc', 'Hsdcda']\n"
     ]
    }
   ],
   "source": [
    "str=input(\"enter any string\")\n",
    "x= re.findall(\"[A-Z][a-z]+\",str)\n",
    "print(x)"
   ]
  },
  {
   "cell_type": "markdown",
   "id": "37a93c69",
   "metadata": {},
   "source": [
    "Question 25- Write a Python program to remove duplicate words from Sentence using Regular Expression"
   ]
  },
  {
   "cell_type": "code",
   "execution_count": 176,
   "id": "52066c70",
   "metadata": {},
   "outputs": [
    {
     "name": "stdout",
     "output_type": "stream",
     "text": [
      "data science is a course\n"
     ]
    }
   ],
   "source": [
    "str='data science science is a course course'\n",
    "pattern=r'\\b(\\w+)(?:\\W+\\1\\b)+'\n",
    "x=re.sub(pattern,r'\\1',str)\n",
    "print(x)"
   ]
  },
  {
   "cell_type": "markdown",
   "id": "d1508dda",
   "metadata": {},
   "source": [
    "Question 26-  Write a python program using RegEx to accept string ending with alphanumeric character."
   ]
  },
  {
   "cell_type": "code",
   "execution_count": 181,
   "id": "788fb87d",
   "metadata": {},
   "outputs": [
    {
     "name": "stdout",
     "output_type": "stream",
     "text": [
      "enter any stringdata science is a course a9b8\n",
      "<re.Match object; span=(0, 4), match='data'>\n"
     ]
    }
   ],
   "source": [
    "str=input(\"enter any string\")\n",
    "x= re.search(\"[A-Za-z0-9]*\",str)\n",
    "print(x)"
   ]
  },
  {
   "cell_type": "markdown",
   "id": "8671fd8b",
   "metadata": {},
   "source": [
    "Question 27-Write a python program using RegEx to extract the hashtags."
   ]
  },
  {
   "cell_type": "code",
   "execution_count": 209,
   "id": "e121813b",
   "metadata": {},
   "outputs": [
    {
     "name": "stdout",
     "output_type": "stream",
     "text": [
      "['#Doltiwal', '#xyzabc', '#Demonetization']\n"
     ]
    }
   ],
   "source": [
    "str=\"#Doltiwal I mean #xyzabc is hurt by #Demonetization as the same has rendered USELESS\"\n",
    "x=re.findall('#\\w+',str)\n",
    "print(x)\n",
    "    "
   ]
  },
  {
   "cell_type": "markdown",
   "id": "f9bc632d",
   "metadata": {},
   "source": [
    "Question 29- Write a python program to extract dates from the text stored in the text file."
   ]
  },
  {
   "cell_type": "code",
   "execution_count": 64,
   "id": "23a2f28d",
   "metadata": {},
   "outputs": [
    {
     "name": "stdout",
     "output_type": "stream",
     "text": [
      "['12-09-1992', '15-12-1999']\n"
     ]
    }
   ],
   "source": [
    "txt='Ron was born on 12-09-1992 and he was admitted to school 15-12-1999'\n",
    "x=re.findall('\\d{2}-\\d{2}-\\d{4}',txt)\n",
    "print(x)                           "
   ]
  },
  {
   "cell_type": "markdown",
   "id": "5f8db99b",
   "metadata": {},
   "source": [
    "Question 30- Write a Python program to replace all occurrences of a space, comma, or dot with a colon."
   ]
  },
  {
   "cell_type": "code",
   "execution_count": 85,
   "id": "e23b2064",
   "metadata": {},
   "outputs": [
    {
     "name": "stdout",
     "output_type": "stream",
     "text": [
      "Python:Exercises::PHP:exercises\n"
     ]
    }
   ],
   "source": [
    "txt='Python Exercises, PHP exercises'\n",
    "x=re.sub('[\\s+,.]',':',txt)\n",
    "print(x)"
   ]
  },
  {
   "cell_type": "code",
   "execution_count": null,
   "id": "294bb1b3",
   "metadata": {},
   "outputs": [],
   "source": []
  }
 ],
 "metadata": {
  "kernelspec": {
   "display_name": "Python 3 (ipykernel)",
   "language": "python",
   "name": "python3"
  },
  "language_info": {
   "codemirror_mode": {
    "name": "ipython",
    "version": 3
   },
   "file_extension": ".py",
   "mimetype": "text/x-python",
   "name": "python",
   "nbconvert_exporter": "python",
   "pygments_lexer": "ipython3",
   "version": "3.10.9"
  }
 },
 "nbformat": 4,
 "nbformat_minor": 5
}
